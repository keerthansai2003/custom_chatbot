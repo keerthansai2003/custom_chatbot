{
  "nbformat": 4,
  "nbformat_minor": 0,
  "metadata": {
    "colab": {
      "provenance": []
    },
    "kernelspec": {
      "name": "python3",
      "display_name": "Python 3"
    },
    "language_info": {
      "name": "python"
    }
  },
  "cells": [
    {
      "cell_type": "markdown",
      "source": [
        "# ***Lexical Processing***"
      ],
      "metadata": {
        "id": "orE827SfdCt7"
      }
    },
    {
      "cell_type": "markdown",
      "source": [
        "### ***Dataset***"
      ],
      "metadata": {
        "id": "0SxO0Zra9Z5D"
      }
    },
    {
      "cell_type": "code",
      "source": [
        "cel_str = '''\n",
        "{\n",
        "  \"intents\": [\n",
        "\n",
        "    {\n",
        "      \"tag\": \"Introduction of_bot\",\n",
        "      \"patterns\": [\n",
        "        \"Hi\",\n",
        "        \"Hey\",\n",
        "        \"How are you\",\n",
        "        \"Is anyone there?\",\n",
        "        \"Hello\",\n",
        "        \"Good day\"\n",
        "      ],\n",
        "      \"responses\": [\n",
        "        \"Hi, I'm the virtual assistant for bus ticket booking. How may I assist you today? \",\n",
        "        \"Hello there! I'm the AI assistant designed to make your bus ticket booking experience smooth and easy\",\n",
        "        \"Hey! I'm here to make your travel plans easier by assisting you with all your bus ticket booking needs\",\n",
        "        \"Hi, I'm the virtual assistant here to assist you with your bus ticket bookings.\"\n",
        "      ]\n",
        "    },\n",
        "\n",
        "\n",
        "\n",
        "\n",
        "    {\n",
        "      \"tag\": \"Goodbye\",\n",
        "      \"patterns\": [\"Bye\", \"See you later\", \"Goodbye\"],\n",
        "      \"responses\": [\n",
        "        \"See you later, thanks for visiting\",\n",
        "        \"Have a nice day\",\n",
        "        \"Bye! Come back again soon.\"\n",
        "      ]\n",
        "    },\n",
        "\n",
        "\n",
        "    {\n",
        "      \"tag\": \"Thanks\",\n",
        "      \"patterns\": [\"Thanks\", \"Thank you\", \"That's helpful\", \"Thank's a lot!\"],\n",
        "      \"responses\": [\"Happy to help!\", \"Any time!\", \"My pleasure\",\"Welcome!\"]\n",
        "    },\n",
        "\n",
        "\n",
        "    {\n",
        "      \"tag\": \"Assistance_with_booking_a_ticket\",\n",
        "      \"patterns\": [\n",
        "        \"I need to book a bus ticket Can you help?\",\n",
        "        \"Hey, I'm looking to book a bus ticket. Could you guide me through the process?\",\n",
        "        \"Hi, I'm interested in booking a bus ticket. Can you provide support in making the reservation?\",\n",
        "        \"I want to book a bus ticket ,can you assist me through the process\"\n",
        "      ],\n",
        "      \"responses\": [\n",
        "        \"Sure! To start, please open the 'Book Bus Tickets' section on the app. Once there, enter your departure city and your destination. After that, select date for your journey. I'll assist you step by step through the process.\",\n",
        "        \"Absolutely! Begin by accessing the 'Book Bus Tickets' section within the app—input  starting point and as your destination. After that, pick date for your journey. I'll be here to guide you through each step.\",\n",
        "        \"Of course! To get started, tap on 'Book Bus Tickets'. From there, enter your departure and destination cities. After that, select date for your journey. I'll assist in the entire process\",\n",
        "        \"No problem! Navigate to the 'Book Bus Tickets' section of the app. Once there, input your departure and destination cities. After that, pick date for your journey. I'll be with you every step of the way to help you complete the booking\"\n",
        "      ]\n",
        "    },\n",
        "\n",
        "\n",
        "    {\n",
        "      \"tag\": \"Seat_selection\",\n",
        "      \"patterns\": [\n",
        "      \"How can I choose my preferred seat on the bus?\",\n",
        "      \"What's the process for selecting seats on a bus during booking?\",\n",
        "      \"Can you guide me on how to pick the seat I want when booking a bus ticket?\",\n",
        "      \"Any instructions on how to select specific seats while booking a bus ticket?\"\n",
        "      ],\n",
        "      \"responses\": [\n",
        "        \"Once you've selected your route and travel date, you'll see a seat selection screen. Just tap on your preferred seat to reserve it. You can also filter seats based on your preferences. Confirm your selection, and you're all set! Let me know if you need any further assistance\",\n",
        "        \"After choosing your route and travel date, simply tap to select your desired seat on the bus. You can also use filters for specific preferences. Confirm your choice, and you're good to go! Feel free to reach out if you need more help\",\n",
        "        \"Once you've picked your route and travel date, just tap on the seat you want on the bus layout. Customize your search with filters if needed. Once selected, confirm your choice, and you're done! Don't hesitate to ask if you have any questions.\",\n",
        "        \"After selecting your route and date, navigate to the seat selection screen and choose your preferred seat with a tap. Use filters for any special requests. Once you're satisfied, confirm your selection to complete the booking. Let me know if there's anything else I can assist you with\"\n",
        "      ]\n",
        "    },\n",
        "\n",
        "\n",
        "\n",
        "    {\n",
        "      \"tag\": \"Cancellation_of_tickets\",\n",
        "      \"patterns\": [\n",
        "        \"How do I cancel my bus ticket?\",\n",
        "\n",
        "        \"What's the procedure for canceling a booked bus ticket?\",\n",
        "\n",
        "        \"Can you guide me through the steps to cancel a bus ticket?\",\n",
        "\n",
        "        \"Any instructions on how to initiate the cancellation of a bus ticket\"\n",
        "      ],\n",
        "      \"responses\": [\n",
        "        \"To cancel your bus ticket, head to 'My Bookings', choose your ticket, and hit 'Cancel'. Check for any applicable fees. Reach out if you need assistance.\",\n",
        "        \"Cancel your bus ticket by going to 'My Bookings', selecting your ticket, and pressing 'Cancel'. Ensure you're aware of any fees. Let me know if you have questions.\",\n",
        "        \"To cancel, navigate to 'My Bookings', locate your ticket, and click 'Cancel'. Be mindful of any fees. Need help? Just ask\",\n",
        "        \"To cancel your bus ticket, go to 'My Bookings', select your ticket, and tap 'Cancel'. Review any fees or policies. Let me know if you need more help.\"\n",
        "      ]\n",
        "    },\n",
        "\n",
        "\n",
        "    {\n",
        "      \"tag\": \"Payment_options\",\n",
        "      \"patterns\": [\n",
        "        \"What are the different payment options available here\",\n",
        "        \"Can I pay through UPI\",\n",
        "        \"can I pay through netbanking\",\n",
        "        \"Can i make a UPI payment\",\n",
        "        \"Can I use Net banking to make a payment\"\n",
        "      ],\n",
        "      \"responses\": [\n",
        "        \"Yes, We accept UPI, Net Banking, Credit card, Debit card, Mobile wallets.\"\n",
        "      ]\n",
        "    },\n",
        "\n",
        "\n",
        "    {\n",
        "\n",
        "      \"tag\": \"Loyalty_Program\",\n",
        "      \"patterns\":[\n",
        "        \"Are there any loyalty programs for frequent users?\",\n",
        "        \"Is there any loyalty program for frequent users?\"\n",
        "      ],\n",
        "      \"responses\":[\n",
        "        \"Yes, We offer a loyalty program called Privilage . Users can earn points for every booking and enjoy discounts or other benefits based on their loyalty level. Check the 'Rewards' section on our website for more details.\"\n",
        "      ]\n",
        "    },\n",
        "\n",
        "\n",
        "{\n",
        "\n",
        "      \"tag\": \"Bus_Delay\",\n",
        "      \"patterns\": [\"What if my bus is delayed?\"],\n",
        "      \"responses\": [\n",
        "        \"Delays can occasionally happen due to various reasons such as traffic, weather, or unforeseen circumstances. If your bus is delayed, you can track its real-time location on our website or app. In case of significant delays, our customer support can provide assistance.\"]\n",
        "},\n",
        "\n",
        "\n",
        "\n",
        "{\n",
        "      \"tag\": \"Payment_Assistance\",\n",
        "      \"patterns\": [\n",
        "        \"I'm having trouble making payment for my booking. Can you help?\",\n",
        "        \"I'm encountering issues while trying to complete the payment for my booking. Can you assist me?\",\n",
        "        \"Having difficulty processing the payment for my booking. Could you provide assistance with this matter?\",\n",
        "        \"I'm experiencing problems during the payment process for my booking. Is there any help available to resolve this?\"\n",
        "      ],\n",
        "      \"responses\": [\n",
        "        \"Of course! Please ensure that you have a stable internet connection and sufficient funds in your payment method. If the issue persists, you can try using a different payment card or contact your bank for assistance\",\n",
        "        \"Absolutely! Ensure that your internet connection is reliable and your payment method has adequate funds. If you're still having trouble, consider using a different payment card or contacting your bank for assistance.\",\n",
        "        \"Of course! Double-check that your internet connection is strong and there's enough balance in your payment method. If the problem continues, consider trying a different payment card or getting in touch with your bank for support.\",\n",
        "        \"Certainly! Make sure your internet connection is stable and there are enough funds in your payment method. If you're still facing issues, consider using another payment card or reaching out to your bank for help\"\n",
        "      ]\n",
        "    },\n",
        "\n",
        "\n",
        "\n",
        "\n",
        "    {\n",
        "      \"tag\": \"Booking_modification\",\n",
        "      \"patterns\": [\n",
        "        \"How can I reschedule the date of my bus ticket?\",\n",
        "        \"What's the process for changing the date on my bus ticket?\",\n",
        "        \"I'd like to switch the date of my bus ticket. How do I go about it?\",\n",
        "        \"How can I reschedule my ticket\",\n",
        "        \"Rescheduling my ticket help\",\n",
        "        \"help me regarding rescheduling my bus ticket\"\n",
        "\n",
        "      ],\n",
        "      \"responses\": [\n",
        "        \"To adjust your booking, navigate to 'My Bookings', then select the ticket you'd like to change. Look for the 'Modify' option and follow the steps to update your travel date. Note that there might be modification fees involved\",\n",
        "        \"To modify your booking, head to 'My Bookings' and pick the ticket you need to update. Then, click on 'Modify' and follow the instructions to change the date. Please be aware that there may be fees associated with modifications.\",\n",
        "        \"If you need to change your travel date, simply go to 'My Bookings' and choose the ticket you want to modify. From there, select 'Modify' and proceed with updating the date. Just a heads up, there could be modification charges.\"\n",
        "      ]\n",
        "    },\n",
        "\n",
        "\n",
        "\n",
        "    {\n",
        "      \"tag\": \"Refund_Inquiry\",\n",
        "      \"patterns\":[\"What is the refund policy if I need to cancel my bus ticket?\",\n",
        "      \"Can you explain the refund process for canceled bus tickets?\",\n",
        "      \"What happens if I cancel my bus ticket? Can I get a refund?\",\n",
        "      \"How does the refund work if I decide to cancel my bus ticket?\"],\n",
        "      \"responses\":[\n",
        "        \"Our refund policy is flexible, taking into account factors like cancellation timing and bus operator terms. You can access detailed refund policy information on our website or app. Feel free to ask if you need more clarification\",\n",
        "        \"Our refund policy varies depending on when you cancel and the specific terms set by the bus operator. You'll find comprehensive details about our refund policy on our website or app. Don't hesitate to reach out if you have questions\",\n",
        "        \"Refund policies are tailored to factors like cancellation timing and the policies of individual bus operators. You can review our detailed refund policy on our website or app. If you need further clarification, we're here to help\"\n",
        "      ]\n",
        "    },\n",
        "\n",
        "\n",
        "    {\n",
        "      \"tag\": \"Special_assistance\",\n",
        "      \"patterns\":[\"How can I request special assistance for a passenger with specific needs?\",\n",
        "      \"What steps should I take to arrange special assistance for a passenger with disabilities?\",\n",
        "      \"How do I request assistance for a passenger who requires special accommodations?\"\n",
        "      ],\n",
        "      \"responses\":[\n",
        "        \"We prioritize providing assistance to passengers with special needs. Please reach out to our customer support team directly, and they'll help you arrange the necessary accommodations for your journey.\",\n",
        "        \"We're committed to supporting passengers with special needs. To arrange accommodations, please contact our customer support team for personalized assistance in ensuring a comfortable journey\",\n",
        "        \"Ensuring the comfort and safety of all passengers, including those with special needs, is important to us. Please get in touch with our customer support team, and they'll assist you in arranging the necessary accommodations.\"\n",
        "      ]\n",
        "    },\n",
        "\n",
        "\n",
        "    {\n",
        "      \"tag\": \"Bus_operator\",\n",
        "      \"patterns\":[\"Where can I find the contact details for the bus operator if I have questions about my trip?\",\n",
        "      \"How do I contact the bus operator if I need assistance with my travel arrangements?\",\n",
        "      \"What should I do if I need to speak to the bus operator about my upcoming journey?\"\n",
        "      ],\n",
        "      \"responses\":[\n",
        "        \"To reach the bus operator regarding your journey, check your ticket or booking confirmation email for their contact information. If you can't find it, just let me know, and I'll gladly provide you with the necessary details\",\n",
        "        \"You'll find the contact information for the bus operator on your ticket or booking confirmation email. If you're having trouble locating it, please inform me, and I'll assist you in obtaining the relevant contact details\",\n",
        "      \"f you have inquiries about your trip, refer to your ticket or booking confirmation email for the bus operator's contact information. If you can't locate it, don't hesitate to ask me, and I'll provide you with the necessary contact details\"\n",
        "    ]\n",
        "    },\n",
        "\n",
        "\n",
        "    {\n",
        "      \"tag\": \"Feedback_on_journey\",\n",
        "      \"patterns\":[\n",
        "        \"How can I share feedback about my recent bus journey?\",\n",
        "        \"What's the process for giving feedback on my recent bus trip?\",\n",
        "        \"How do I provide feedback about my bus journey?\"\n",
        "      ],\n",
        "      \"responses\":[\n",
        "        \"Your feedback is important to us! You can share your thoughts through the 'Feedback' section on our website or app. Your input enables us to enhance our services for future travelers. Thank you for taking the time to provide your valuable feedback!\",\n",
        "        \"We value your insights! You can share your feedback by accessing the 'Feedback' section on our website or app. Your comments contribute to our ongoing efforts to enhance our services for all travelers. We appreciate your time and input!\",\n",
        "        \"- Your feedback is greatly appreciated! You can submit your comments through the 'Feedback' section on our website or app. Your valuable input helps us continually improve our services for the benefit of all travelers. Thank you for sharing your experience with us!\"\n",
        "    ]\n",
        "    },\n",
        "\n",
        "\n",
        "    {\n",
        "      \"tag\": \"Luggage_policy_clarification\",\n",
        "      \"patterns\":[\n",
        "        \"What is the luggage policy for my bus journey?\",\n",
        "        \"Can you provide details about the luggage policy for my upcoming bus trip?\",\n",
        "        \"What are the rules regarding luggage for my bus journey?\",\n",
        "        \"I'm unsure about the luggage policy for my bus journey. Can you clarify?\"\n",
        "      ],\n",
        "      \"responses\":[\n",
        "        \"Certainly! The luggage policy can vary by bus operator. You'll find specific information about luggage allowance and restrictions on your ticket or booking confirmation. Feel free to ask if you need more details.\",\n",
        "        \"The luggage policy differs depending on the bus operator. Please refer to your ticket or booking confirmation for precise details about luggage allowance and restrictions. Don't hesitate to reach out if you have any questions.\",\n",
        "        \"Sure! Luggage policies vary among bus operators. Check your ticket or booking confirmation for specific guidelines on luggage allowance and restrictions. If you have further questions, don't hesitate to ask\"\n",
        "    ]\n",
        "    },\n",
        "\n",
        "\n",
        "    {\n",
        "      \"tag\": \"Travel_advisory_information \",\n",
        "      \"patterns\":[\"Are there any travel advisories or updates I should be aware of?\",\n",
        "      \"Should I be aware of any travel advisories or updates before my trip?\",\n",
        "      \"Are there any important travel advisories or updates I need to know about?\",\n",
        "      \"I'm planning a trip. Are there any travel advisories or updates I should be aware of?\"\n",
        "      ],\n",
        "      \"responses\":[\n",
        "        \"To stay informed about travel advisories or updates, please consult the latest notifications from local authorities or government agencies. You can also check our website or app for any relevant travel alerts or announcements\",\n",
        "        \"To ensure you're up-to-date with travel advisories or updates, please monitor the latest notifications from local authorities or government agencies. Additionally, feel free to visit our website or app for any pertinent travel alerts or announcements\",\n",
        "        \"To be informed about any travel advisories or updates, it's recommended to review the latest notifications from local authorities or government agencies. You can also check our website or app for any relevant travel alerts or announcements\"\n",
        "    ]\n",
        "    },\n",
        "\n",
        "\n",
        "    {\n",
        "      \"tag\": \"Promotional_offers_inquiry \",\n",
        "      \"patterns\":[\"Are there any current promotional offers or discounts available?\",\n",
        "      \"Do you currently have any promotions or discounts?\",\n",
        "      \"What promotional offers or discounts are available right now?\"\n",
        "      ],\n",
        "      \"responses\":[\n",
        "        \"Certainly! We frequently offer promotional discounts for our users. You can find the latest deals and promotions on our website or app. If you're subscribed to our newsletter, you may also receive exclusive offers.\",\n",
        "        \"Yes, we regularly offer promotions and discounts for our customers. To view the latest deals and promotions, please visit our website or app. If you're subscribed to our newsletter, you may receive exclusive offers as well.\",\n",
        "        \"We have ongoing promotional offers and discounts for our users. To see the latest deals and promotions, please check our website or app. If you're subscribed to our newsletter, you may receive exclusive offers\"\n",
        "    ]\n",
        "    },\n",
        "\n",
        "\n",
        "    {\n",
        "      \"tag\": \"Bus_eminities_clarification \",\n",
        "      \"patterns\":[\n",
        "        \"What amenities are available on the bus for my journey?\",\n",
        "        \"Could you please tell me about the amenities provided on the bus for my journey?\",\n",
        "        \"What facilities can I expect on the bus for my trip?\",\n",
        "        \"I'm curious about the amenities provided onboard. Can you provide details?\"\n",
        "      ],\n",
        "      \"responses\":[\n",
        "        \"Certainly! Bus amenities can vary based on the operator and service type. Common features include air conditioning, reclining seats, Wi-Fi, and onboard restrooms. Specific details about the amenities offered by your bus operator will be available during the booking process.\",\n",
        "        \"The amenities available on the bus may differ depending on the operator and service category. Typically, buses offer amenities such as air conditioning, reclining seats, Wi-Fi, and onboard restrooms. You'll find specific information about your bus operator's amenities when booking your ticket\",\n",
        "        \"Sure! Bus amenities vary by operator and service type. Common amenities include air conditioning, reclining seats, Wi-Fi, and onboard restrooms. You'll receive specific information about the amenities offered by your bus operator as you proceed with the booking\"\n",
        "    ]\n",
        "    },\n",
        "\n",
        "\n",
        "    {\n",
        "\n",
        "      \"tag\": \"Bus_Miss \",\n",
        "      \"patterns\":[\n",
        "        \"What happens if I miss my bus?\",\n",
        "        \"What happens if I do not catch my bus on time?\",\n",
        "        \"What happens if I fail to catch my bus on time?\"\n",
        "      ],\n",
        "      \"responses\":[\n",
        "        \"If you miss your bus, please contact our customer support immediately. Depending on the bus operator's policy, you may have options for rescheduling (subject to availability) or seeking assistance for an alternative solution.\",\n",
        "        \"If you fail to catch your bus, please contact our customer support immediately. Depending on the bus operator's policy, you may have options for rescheduling (subject to availability) or seeking assistance for an alternative solution.\",\n",
        "        \"If you do not catch your bus, please contact our customer support immediately. Depending on the bus operator's policy, you may have options for rescheduling (subject to availability) or seeking assistance for an alternative solution.\"\n",
        "      ]\n",
        "    },\n",
        "\n",
        "\n",
        "    {\n",
        "      \"tag\": \"Documents\",\n",
        "      \"patterns\":[\n",
        "        \"What documents do I need to carry while boarding the bus?\"\n",
        "      ],\n",
        "      \"responses\":[\n",
        "        \" Generally, you need to carry a printout or display the e-ticket on your mobile device. Additionally, a valid government-issued ID, such as Aadhar card or driver's license, is usually required for verification during boarding.\"\n",
        "\n",
        "      ]\n",
        "    },\n",
        "\n",
        "\n",
        "\n",
        "    {\n",
        "      \"tag\": \"Ticket_Confirmation_enquiry \",\n",
        "      \"patterns\":[\n",
        "        \"I made a bus ticket booking, but I haven't received any confirmation email. Can you assist me?\",\n",
        "        \"What should I do if I haven't received a confirmation email for my bus ticket booking?\",\n",
        "        \"I'm concerned because I haven't received a confirmation email after booking my bus ticket. Can you provide guidance?\"\n",
        "      ],\n",
        "      \"responses\":[\n",
        "        \"Certainly! Start by checking your spam or junk folder for the confirmation email. If it's not there, please provide me with your booking details, and I'll help you verify your ticket.\",\n",
        "        \"If you haven't received a confirmation email, first check your spam or junk folder. If it's not there, please share your booking details with me, and I'll assist you in confirming your ticket.\",\n",
        "        \"Of course! Please take a moment to check your spam or junk folder to ensure the confirmation email wasn't filtered there. If you still haven't received it, kindly provide me with your booking details, and I'll help you confirm your ticket.\"\n",
        "    ]\n",
        "    },\n",
        "\n",
        "\n",
        "    {\n",
        "      \"tag\": \"Travel_insurance_inquiry \",\n",
        "      \"patterns\":[\n",
        "        \"Is travel insurance available for bus tickets?\",\n",
        "        \"Do you offer travel insurance for bus tickets?\",\n",
        "        \"Is there an option to get insurance for my bus journey?\",\n",
        "        \"Can I purchase travel insurance for my bus ticket?\"\n",
        "      ],\n",
        "      \"responses\":[\n",
        "        \"Absolutely! We provide travel insurance for bus tickets. When you book your ticket, you'll be presented with the option to add travel insurance for additional protection and peace of mind.\",\n",
        "        \"Yes, you can get travel insurance for bus tickets to ensure your journey is covered. Simply select the option to add travel insurance during the booking process for added security.\",\n",
        "        \"Certainly! You have the option to purchase travel insurance for your bus ticket. When you book your ticket, you'll be prompted to add travel insurance for added assurance during your journey.\",\n",
        "        \"Yes, we offer travel insurance for bus tickets. During the booking process, you'll have the option to add travel insurance to your ticket for added protection and peace of mind.\"\n",
        "      ]\n",
        "    }\n",
        "\n",
        "\n",
        "\n",
        "  ]\n",
        "}\n",
        "\n",
        "'''\n",
        "\n",
        "exec(cel_str)\n",
        "with open('intents.json', 'w') as f:\n",
        "  f.write(cel_str)\n"
      ],
      "metadata": {
        "id": "fkSHjako8Laj"
      },
      "execution_count": null,
      "outputs": []
    },
    {
      "cell_type": "markdown",
      "source": [
        "### ***Importing Libraries***"
      ],
      "metadata": {
        "id": "-i3_qihEkPhM"
      }
    },
    {
      "cell_type": "code",
      "execution_count": null,
      "metadata": {
        "colab": {
          "base_uri": "https://localhost:8080/"
        },
        "id": "f6V3RXcTCiCA",
        "outputId": "9705c9de-da86-4b92-a218-88fa741fae92"
      },
      "outputs": [
        {
          "output_type": "stream",
          "name": "stderr",
          "text": [
            "[nltk_data] Downloading package punkt to /root/nltk_data...\n",
            "[nltk_data]   Unzipping tokenizers/punkt.zip.\n",
            "[nltk_data] Downloading package wordnet to /root/nltk_data...\n",
            "[nltk_data] Downloading package stopwords to /root/nltk_data...\n",
            "[nltk_data]   Unzipping corpora/stopwords.zip.\n",
            "[nltk_data] Downloading package averaged_perceptron_tagger to\n",
            "[nltk_data]     /root/nltk_data...\n",
            "[nltk_data]   Unzipping taggers/averaged_perceptron_tagger.zip.\n"
          ]
        }
      ],
      "source": [
        "cell_str = '''\n",
        "\n",
        "\n",
        "import numpy as np\n",
        "import nltk\n",
        "\n",
        "nltk.download('punkt')\n",
        "nltk.download('wordnet')\n",
        "\n",
        "from nltk.stem import WordNetLemmatizer\n",
        "wnl = WordNetLemmatizer()\n",
        "\n",
        "from nltk.corpus import stopwords\n",
        "nltk.download('stopwords')\n",
        "stop_words = set(stopwords.words('english'))\n",
        "\n",
        "nltk.download('averaged_perceptron_tagger')\n",
        "\n",
        "\n",
        "def tokenize(sentence):\n",
        "\n",
        "    \"\"\"\n",
        "    split sentence into array of words/tokens\n",
        "    a token can be a word or punctuation character, or number\n",
        "\n",
        "    \"\"\"\n",
        "\n",
        "    return nltk.word_tokenize(sentence)\n",
        "\n",
        "\n",
        "def lemmatize(word):\n",
        "\n",
        "    \"\"\"\n",
        "    Lemmatizing = find the root form of the word\n",
        "    examples:\n",
        "    words = [\"organize\", \"organizes\", \"organizing\"]\n",
        "    words = [lemmatize(w) for w in words]\n",
        "    -> [\"organ\", \"organ\", \"organ\"]\n",
        "\n",
        "\n",
        "    \"\"\"\n",
        "\n",
        "    return wnl.lemmatize(word)\n",
        "\n",
        "\n",
        "\n",
        "\n",
        "def bag_of_words(tokenized_sentence, words):\n",
        "\n",
        "\n",
        "    \"\"\"\n",
        "    return bag of words array:\n",
        "    1 for each known word that exists in the sentence, 0 otherwise\n",
        "    example:\n",
        "    sentence = [\"hello\", \"how\", \"are\", \"you\"]\n",
        "    words = [\"hi\", \"hello\", \"I\", \"you\", \"bye\", \"thank\", \"cool\"]\n",
        "    bag  = [  0 ,    1 ,    0 ,   1 ,    0 ,    0 ,      0]\n",
        "    \"\"\"\n",
        "\n",
        "\n",
        "    # Lemmatize each word\n",
        "    sentence_words = [lemmatize(word) for word in tokenized_sentence]\n",
        "    # initialize bag with 0 for each word\n",
        "    bag = np.zeros(len(words), dtype=np.float32)\n",
        "    for idx, w in enumerate(words):\n",
        "        if w in sentence_words:\n",
        "            bag[idx] = 1\n",
        "\n",
        "    return bag\n",
        "    '''\n",
        "\n",
        "exec(cell_str)\n",
        "with open('nltk_utils.py', 'w') as f:\n",
        "  f.write(cell_str)\n"
      ]
    },
    {
      "cell_type": "markdown",
      "source": [
        "### ***Tokenization***"
      ],
      "metadata": {
        "id": "0m9tpZZJvDgh"
      }
    },
    {
      "cell_type": "code",
      "source": [
        "import numpy as np\n",
        "import nltk\n",
        "import json\n",
        "from nltk_utils import bag_of_words,tokenize,lemmatize\n",
        "\n",
        "with open('intents.json', 'r') as f:\n",
        "    intents = json.load(f)\n",
        "\n",
        "all_words = []\n",
        "tags = []\n",
        "xy = []\n",
        "# loop through each sentence in our intents patterns\n",
        "for intent in intents['intents']:\n",
        "    tag = intent['tag']\n",
        "    # add to tag list\n",
        "    tags.append(tag)\n",
        "    for pattern in intent['patterns']:\n",
        "        # tokenize each word in the sentence\n",
        "        w = tokenize(pattern)\n",
        "        # add to our words list\n",
        "        all_words.extend(w)\n",
        "        # add to xy pair\n",
        "        xy.append((w, tag))"
      ],
      "metadata": {
        "id": "W0y08dBrCxPM",
        "colab": {
          "base_uri": "https://localhost:8080/"
        },
        "outputId": "647e718c-101b-43eb-ba3a-e6fbb5a40f9a"
      },
      "execution_count": null,
      "outputs": [
        {
          "output_type": "stream",
          "name": "stderr",
          "text": [
            "[nltk_data] Downloading package punkt to /root/nltk_data...\n",
            "[nltk_data]   Package punkt is already up-to-date!\n",
            "[nltk_data] Downloading package wordnet to /root/nltk_data...\n",
            "[nltk_data]   Package wordnet is already up-to-date!\n",
            "[nltk_data] Downloading package stopwords to /root/nltk_data...\n",
            "[nltk_data]   Package stopwords is already up-to-date!\n",
            "[nltk_data] Downloading package averaged_perceptron_tagger to\n",
            "[nltk_data]     /root/nltk_data...\n",
            "[nltk_data]   Package averaged_perceptron_tagger is already up-to-\n",
            "[nltk_data]       date!\n"
          ]
        }
      ]
    },
    {
      "cell_type": "code",
      "source": [
        "print(len(sorted(set(all_words))))\n",
        "print(sorted(list(set(all_words))))"
      ],
      "metadata": {
        "colab": {
          "base_uri": "https://localhost:8080/"
        },
        "id": "S_ZMCAHbultG",
        "outputId": "557889df-8f5f-454d-e140-9bfc812e8b80"
      },
      "execution_count": null,
      "outputs": [
        {
          "output_type": "stream",
          "name": "stdout",
          "text": [
            "222\n",
            "['!', \"'d\", \"'m\", \"'s\", ',', '.', '?', 'Any', 'Are', 'Bye', 'Can', 'Could', 'Do', 'Good', 'Goodbye', 'Having', 'Hello', 'Hey', 'Hi', 'How', 'I', 'Is', 'Net', 'Rescheduling', 'See', 'Should', 'Thank', 'Thanks', 'That', 'UPI', 'What', 'Where', 'a', 'about', 'accommodations', 'advisories', 'after', 'amenities', 'an', 'any', 'anyone', 'are', 'arrange', 'arrangements', 'assist', 'assistance', 'available', 'aware', 'banking', 'be', 'because', 'before', 'boarding', 'book', 'booked', 'booking', 'bus', 'but', 'can', 'cancel', 'canceled', 'canceling', 'cancellation', 'carry', 'catch', 'changing', 'choose', 'clarify', 'complete', 'concerned', 'confirmation', 'contact', 'curious', 'current', 'currently', 'date', 'day', 'decide', 'delayed', 'details', 'different', 'difficulty', 'disabilities', 'discounts', 'do', 'documents', 'does', 'during', 'email', 'encountering', 'expect', 'experiencing', 'explain', 'facilities', 'fail', 'feedback', 'find', 'for', 'frequent', 'get', 'giving', 'go', 'guidance', 'guide', 'happens', 'have', 'having', 'help', 'helpful', 'here', 'how', 'i', 'if', 'important', 'in', 'initiate', 'instructions', 'insurance', 'interested', 'is', 'issues', 'it', 'journey', 'know', 'later', 'like', 'looking', 'lot', 'loyalty', 'luggage', 'made', 'make', 'making', 'matter', 'me', 'miss', 'my', \"n't\", 'need', 'needs', 'netbanking', 'not', 'now', 'of', 'offer', 'offers', 'on', 'onboard', 'operator', 'option', 'options', 'or', 'passenger', 'pay', 'payment', 'pick', 'planning', 'please', 'policy', 'preferred', 'problems', 'procedure', 'process', 'processing', 'program', 'programs', 'promotional', 'promotions', 'provide', 'provided', 'purchase', 'questions', 'received', 'recent', 'refund', 'regarding', 'request', 'requires', 'reschedule', 'rescheduling', 'reservation', 'resolve', 'right', 'rules', 'seat', 'seats', 'select', 'selecting', 'share', 'should', 'speak', 'special', 'specific', 'steps', 'support', 'switch', 'take', 'tell', 'the', 'there', 'this', 'through', 'ticket', 'tickets', 'time', 'to', 'travel', 'trip', 'trouble', 'trying', 'unsure', 'upcoming', 'updates', 'use', 'users', 'want', 'when', 'while', 'who', 'with', 'work', 'you']\n"
          ]
        }
      ]
    },
    {
      "cell_type": "markdown",
      "source": [
        "### ***Lowering***"
      ],
      "metadata": {
        "id": "OefltJA6pL2U"
      }
    },
    {
      "cell_type": "code",
      "source": [
        "for i in range(0,len(all_words)):\n",
        "  all_words[i]=all_words[i].lower()"
      ],
      "metadata": {
        "id": "lXbs_nIQnzNV"
      },
      "execution_count": null,
      "outputs": []
    },
    {
      "cell_type": "markdown",
      "source": [
        "### ***Stopwords***"
      ],
      "metadata": {
        "id": "0QrWMLGOO5GL"
      }
    },
    {
      "cell_type": "code",
      "source": [
        "sw=[]\n",
        "for i in range(0,len(all_words)):\n",
        "  if all_words[i] in stop_words:\n",
        "    sw.append(all_words[i])\n",
        "\n",
        "sw=sorted(set(sw))\n",
        "print(len(sw))\n",
        "print(sw)"
      ],
      "metadata": {
        "colab": {
          "base_uri": "https://localhost:8080/"
        },
        "id": "HR48UcjNMhJM",
        "outputId": "e93a3e54-733e-4f86-ce4b-72bd67bda08f"
      },
      "execution_count": null,
      "outputs": [
        {
          "output_type": "stream",
          "name": "stdout",
          "text": [
            "45\n",
            "['a', 'about', 'after', 'an', 'any', 'are', 'be', 'because', 'before', 'but', 'can', 'do', 'does', 'during', 'for', 'have', 'having', 'here', 'how', 'i', 'if', 'in', 'is', 'it', 'me', 'my', 'not', 'now', 'of', 'on', 'or', 'should', 'that', 'the', 'there', 'this', 'through', 'to', 'what', 'when', 'where', 'while', 'who', 'with', 'you']\n"
          ]
        }
      ]
    },
    {
      "cell_type": "code",
      "source": [
        "print(sw)"
      ],
      "metadata": {
        "colab": {
          "base_uri": "https://localhost:8080/"
        },
        "id": "YMOjP9GZNZgQ",
        "outputId": "7d902563-c3e8-4e51-bf21-2aad3a3f2a46"
      },
      "execution_count": null,
      "outputs": [
        {
          "output_type": "stream",
          "name": "stdout",
          "text": [
            "['a', 'about', 'after', 'an', 'any', 'are', 'be', 'because', 'before', 'but', 'can', 'do', 'does', 'during', 'for', 'have', 'having', 'here', 'how', 'i', 'if', 'in', 'is', 'it', 'me', 'my', 'not', 'now', 'of', 'on', 'or', 'should', 'that', 'the', 'there', 'this', 'through', 'to', 'what', 'when', 'where', 'while', 'who', 'with', 'you']\n"
          ]
        }
      ]
    },
    {
      "cell_type": "markdown",
      "source": [
        "### ***Stopword Removal***"
      ],
      "metadata": {
        "id": "LuI3XKx-pSvi"
      }
    },
    {
      "cell_type": "code",
      "source": [
        "aw=[]\n",
        "for i in range(0,len(all_words)):\n",
        "  if all_words[i] not in sw:\n",
        "    aw.append(all_words[i])\n",
        "\n",
        "aw=sorted(set(aw))\n",
        "print(len(aw))\n",
        "print(aw)"
      ],
      "metadata": {
        "colab": {
          "base_uri": "https://localhost:8080/"
        },
        "id": "4BJlVfnrg7J2",
        "outputId": "624764f8-a9f7-4859-8d42-622d726b3052"
      },
      "execution_count": null,
      "outputs": [
        {
          "output_type": "stream",
          "name": "stdout",
          "text": [
            "167\n",
            "['!', \"'d\", \"'m\", \"'s\", ',', '.', '?', 'accommodations', 'advisories', 'amenities', 'anyone', 'arrange', 'arrangements', 'assist', 'assistance', 'available', 'aware', 'banking', 'boarding', 'book', 'booked', 'booking', 'bus', 'bye', 'cancel', 'canceled', 'canceling', 'cancellation', 'carry', 'catch', 'changing', 'choose', 'clarify', 'complete', 'concerned', 'confirmation', 'contact', 'could', 'curious', 'current', 'currently', 'date', 'day', 'decide', 'delayed', 'details', 'different', 'difficulty', 'disabilities', 'discounts', 'documents', 'email', 'encountering', 'expect', 'experiencing', 'explain', 'facilities', 'fail', 'feedback', 'find', 'frequent', 'get', 'giving', 'go', 'good', 'goodbye', 'guidance', 'guide', 'happens', 'hello', 'help', 'helpful', 'hey', 'hi', 'important', 'initiate', 'instructions', 'insurance', 'interested', 'issues', 'journey', 'know', 'later', 'like', 'looking', 'lot', 'loyalty', 'luggage', 'made', 'make', 'making', 'matter', 'miss', \"n't\", 'need', 'needs', 'net', 'netbanking', 'offer', 'offers', 'onboard', 'operator', 'option', 'options', 'passenger', 'pay', 'payment', 'pick', 'planning', 'please', 'policy', 'preferred', 'problems', 'procedure', 'process', 'processing', 'program', 'programs', 'promotional', 'promotions', 'provide', 'provided', 'purchase', 'questions', 'received', 'recent', 'refund', 'regarding', 'request', 'requires', 'reschedule', 'rescheduling', 'reservation', 'resolve', 'right', 'rules', 'seat', 'seats', 'see', 'select', 'selecting', 'share', 'speak', 'special', 'specific', 'steps', 'support', 'switch', 'take', 'tell', 'thank', 'thanks', 'ticket', 'tickets', 'time', 'travel', 'trip', 'trouble', 'trying', 'unsure', 'upcoming', 'updates', 'upi', 'use', 'users', 'want', 'work']\n"
          ]
        }
      ]
    },
    {
      "cell_type": "markdown",
      "source": [
        "### ***Excluding Punctuation marks***"
      ],
      "metadata": {
        "id": "blArTkXBiP8i"
      }
    },
    {
      "cell_type": "code",
      "source": [
        "ignore_words = ['?', '.', '!',',','\"','&',\"'\",'/']\n",
        "iw=[]\n",
        "\n",
        "for i in range(0,len(aw)):\n",
        "  if aw[i] not in ignore_words:\n",
        "    iw.append(aw[i])\n",
        "\n",
        "iw=sorted(set(iw))\n",
        "print(len(iw))\n",
        "print(iw)"
      ],
      "metadata": {
        "colab": {
          "base_uri": "https://localhost:8080/"
        },
        "id": "I14MG_NUjEpY",
        "outputId": "2c711807-eb4b-420a-99e4-4518b11241f6"
      },
      "execution_count": null,
      "outputs": [
        {
          "output_type": "stream",
          "name": "stdout",
          "text": [
            "163\n",
            "[\"'d\", \"'m\", \"'s\", 'accommodations', 'advisories', 'amenities', 'anyone', 'arrange', 'arrangements', 'assist', 'assistance', 'available', 'aware', 'banking', 'boarding', 'book', 'booked', 'booking', 'bus', 'bye', 'cancel', 'canceled', 'canceling', 'cancellation', 'carry', 'catch', 'changing', 'choose', 'clarify', 'complete', 'concerned', 'confirmation', 'contact', 'could', 'curious', 'current', 'currently', 'date', 'day', 'decide', 'delayed', 'details', 'different', 'difficulty', 'disabilities', 'discounts', 'documents', 'email', 'encountering', 'expect', 'experiencing', 'explain', 'facilities', 'fail', 'feedback', 'find', 'frequent', 'get', 'giving', 'go', 'good', 'goodbye', 'guidance', 'guide', 'happens', 'hello', 'help', 'helpful', 'hey', 'hi', 'important', 'initiate', 'instructions', 'insurance', 'interested', 'issues', 'journey', 'know', 'later', 'like', 'looking', 'lot', 'loyalty', 'luggage', 'made', 'make', 'making', 'matter', 'miss', \"n't\", 'need', 'needs', 'net', 'netbanking', 'offer', 'offers', 'onboard', 'operator', 'option', 'options', 'passenger', 'pay', 'payment', 'pick', 'planning', 'please', 'policy', 'preferred', 'problems', 'procedure', 'process', 'processing', 'program', 'programs', 'promotional', 'promotions', 'provide', 'provided', 'purchase', 'questions', 'received', 'recent', 'refund', 'regarding', 'request', 'requires', 'reschedule', 'rescheduling', 'reservation', 'resolve', 'right', 'rules', 'seat', 'seats', 'see', 'select', 'selecting', 'share', 'speak', 'special', 'specific', 'steps', 'support', 'switch', 'take', 'tell', 'thank', 'thanks', 'ticket', 'tickets', 'time', 'travel', 'trip', 'trouble', 'trying', 'unsure', 'upcoming', 'updates', 'upi', 'use', 'users', 'want', 'work']\n"
          ]
        }
      ]
    },
    {
      "cell_type": "markdown",
      "source": [
        "### ***Tags***"
      ],
      "metadata": {
        "id": "QzaXEuRXjYxW"
      }
    },
    {
      "cell_type": "code",
      "source": [
        "tags = sorted(set(tags))\n",
        "print(len(tags))\n",
        "print(tags)"
      ],
      "metadata": {
        "colab": {
          "base_uri": "https://localhost:8080/"
        },
        "id": "Ril5lWEg3JhV",
        "outputId": "a67386c0-c317-4cb5-8bb5-b4f0c5e3fafc"
      },
      "execution_count": null,
      "outputs": [
        {
          "output_type": "stream",
          "name": "stdout",
          "text": [
            "23\n",
            "['Assistance_with_booking_a_ticket', 'Booking_modification', 'Bus_Delay', 'Bus_Miss ', 'Bus_eminities_clarification ', 'Bus_operator', 'Cancellation_of_tickets', 'Documents', 'Feedback_on_journey', 'Goodbye', 'Introduction of_bot', 'Loyalty_Program', 'Luggage_policy_clarification', 'Payment_Assistance', 'Payment_options', 'Promotional_offers_inquiry ', 'Refund_Inquiry', 'Seat_selection', 'Special_assistance', 'Thanks', 'Ticket_Confirmation_enquiry ', 'Travel_advisory_information ', 'Travel_insurance_inquiry ']\n"
          ]
        }
      ]
    },
    {
      "cell_type": "markdown",
      "source": [
        "# ***Syntactic Processing***"
      ],
      "metadata": {
        "id": "WM4UiPzEN5Gk"
      }
    },
    {
      "cell_type": "markdown",
      "source": [
        "### ***POS Tagging***"
      ],
      "metadata": {
        "id": "8g71EgajjeQD"
      }
    },
    {
      "cell_type": "code",
      "source": [
        "tagged = nltk.pos_tag(iw)\n",
        "print(len(tagged))\n",
        "print(sorted(set(tagged)))"
      ],
      "metadata": {
        "colab": {
          "base_uri": "https://localhost:8080/"
        },
        "id": "4ZCELz5y9KbB",
        "outputId": "7055bebe-5362-421f-f190-c1f8e09c6a90"
      },
      "execution_count": null,
      "outputs": [
        {
          "output_type": "stream",
          "name": "stdout",
          "text": [
            "163\n",
            "[(\"'d\", 'MD'), (\"'m\", 'VBP'), (\"'s\", 'POS'), ('accommodations', 'NNS'), ('advisories', 'NNS'), ('amenities', 'NNS'), ('anyone', 'NN'), ('arrange', 'NN'), ('arrangements', 'NNS'), ('assist', 'JJ'), ('assistance', 'NN'), ('available', 'JJ'), ('aware', 'JJ'), ('banking', 'NN'), ('boarding', 'VBG'), ('book', 'NN'), ('booked', 'VBD'), ('booking', 'VBG'), ('bus', 'NN'), ('bye', 'NN'), ('cancel', 'NN'), ('canceled', 'VBD'), ('canceling', 'VBG'), ('cancellation', 'NN'), ('carry', 'NN'), ('catch', 'VBP'), ('changing', 'VBG'), ('choose', 'JJ'), ('clarify', 'JJ'), ('complete', 'JJ'), ('concerned', 'VBN'), ('confirmation', 'NN'), ('contact', 'NN'), ('could', 'MD'), ('curious', 'VB'), ('current', 'JJ'), ('currently', 'RB'), ('date', 'NN'), ('day', 'NN'), ('decide', 'VB'), ('delayed', 'VBN'), ('details', 'NNS'), ('different', 'JJ'), ('difficulty', 'NN'), ('disabilities', 'NNS'), ('discounts', 'VBZ'), ('documents', 'NNS'), ('email', 'VBP'), ('encountering', 'VBG'), ('expect', 'VBP'), ('experiencing', 'VBG'), ('explain', 'NN'), ('facilities', 'NNS'), ('fail', 'VBP'), ('feedback', 'NN'), ('find', 'VBP'), ('frequent', 'JJ'), ('get', 'NN'), ('giving', 'VBG'), ('go', 'VB'), ('good', 'JJ'), ('goodbye', 'NN'), ('guidance', 'NN'), ('guide', 'NN'), ('happens', 'VBZ'), ('hello', 'JJ'), ('help', 'NN'), ('helpful', 'NN'), ('hey', 'NN'), ('hi', 'RBS'), ('important', 'JJ'), ('initiate', 'NN'), ('instructions', 'NNS'), ('insurance', 'NN'), ('interested', 'JJ'), ('issues', 'NNS'), ('journey', 'NN'), ('know', 'VBP'), ('later', 'RB'), ('like', 'IN'), ('looking', 'VBG'), ('lot', 'NN'), ('loyalty', 'NN'), ('luggage', 'NN'), ('made', 'VBD'), ('make', 'VBP'), ('making', 'VBG'), ('matter', 'NN'), ('miss', 'VBP'), (\"n't\", 'RB'), ('need', 'VB'), ('needs', 'NNS'), ('net', 'JJ'), ('netbanking', 'NN'), ('offer', 'NN'), ('offers', 'VBZ'), ('onboard', 'RB'), ('operator', 'NN'), ('option', 'NN'), ('options', 'NNS'), ('passenger', 'NN'), ('pay', 'VBP'), ('payment', 'NN'), ('pick', 'NN'), ('planning', 'VBG'), ('please', 'NN'), ('policy', 'NN'), ('preferred', 'VBN'), ('problems', 'NNS'), ('procedure', 'JJ'), ('process', 'NN'), ('processing', 'VBG'), ('program', 'NN'), ('programs', 'NNS'), ('promotional', 'JJ'), ('promotions', 'NNS'), ('provide', 'VBP'), ('provided', 'VBN'), ('purchase', 'NN'), ('questions', 'NNS'), ('received', 'VBD'), ('recent', 'JJ'), ('refund', 'NN'), ('regarding', 'VBG'), ('request', 'NN'), ('requires', 'VBZ'), ('reschedule', 'JJ'), ('rescheduling', 'VBG'), ('reservation', 'NN'), ('resolve', 'VB'), ('right', 'JJ'), ('rules', 'NNS'), ('seat', 'VBP'), ('seats', 'NNS'), ('see', 'VBP'), ('select', 'JJ'), ('selecting', 'VBG'), ('share', 'NN'), ('speak', 'JJ'), ('special', 'JJ'), ('specific', 'JJ'), ('steps', 'NNS'), ('support', 'NN'), ('switch', 'VBP'), ('take', 'VB'), ('tell', 'NN'), ('thank', 'IN'), ('thanks', 'NNS'), ('ticket', 'JJ'), ('tickets', 'NNS'), ('time', 'NN'), ('travel', 'NN'), ('trip', 'NN'), ('trouble', 'NN'), ('trying', 'VBG'), ('unsure', 'JJ'), ('upcoming', 'JJ'), ('updates', 'NNS'), ('upi', 'JJ'), ('use', 'NN'), ('users', 'NNS'), ('want', 'VBP'), ('work', 'NN')]\n"
          ]
        }
      ]
    },
    {
      "cell_type": "code",
      "source": [
        "pos_counts = {}\n",
        "\n",
        "# Iterate through the list and count occurrences\n",
        "for tup in tagged:\n",
        "    pos = tup[1]  # Get the part of speech from the tuple\n",
        "    if pos in pos_counts:\n",
        "        pos_counts[pos] += 1\n",
        "    else:\n",
        "        pos_counts[pos] = 1"
      ],
      "metadata": {
        "id": "jO_f__ZtyF9P"
      },
      "execution_count": null,
      "outputs": []
    },
    {
      "cell_type": "code",
      "source": [
        "print(pos_counts)"
      ],
      "metadata": {
        "colab": {
          "base_uri": "https://localhost:8080/"
        },
        "id": "qOQ-yJdN39Ln",
        "outputId": "d73f4b91-cd7b-468e-cf0c-8a945433c105"
      },
      "execution_count": null,
      "outputs": [
        {
          "output_type": "stream",
          "name": "stdout",
          "text": [
            "{'MD': 2, 'VBP': 15, 'POS': 1, 'NNS': 23, 'NN': 55, 'JJ': 27, 'VBG': 15, 'VBD': 4, 'VBN': 4, 'VB': 6, 'RB': 4, 'VBZ': 4, 'RBS': 1, 'IN': 2}\n"
          ]
        }
      ]
    },
    {
      "cell_type": "code",
      "source": [
        "# POS tag list:\n",
        "# CC\tcoordinating conjunction\n",
        "# CD\tcardinal digit\n",
        "# DT\tdeterminer\n",
        "# EX\texistential there (like: \"there is\" ... think of it like \"there exists\")\n",
        "# FW\tforeign word\n",
        "# IN\tpreposition/subordinating conjunction\n",
        "# JJ\tadjective\t'big'\n",
        "# JJR\tadjective, comparative\t'bigger'\n",
        "# JJS\tadjective, superlative\t'biggest'\n",
        "# LS\tlist marker\t1)\n",
        "# MD\tmodal\tcould, will\n",
        "# NN\tnoun, singular 'desk'\n",
        "# NNS\tnoun plural\t'desks'\n",
        "# NNP\tproper noun, singular\t'Harrison'\n",
        "# NNPS\tproper noun, plural\t'Americans'\n",
        "# PDT\tpredeterminer\t'all the kids'\n",
        "# POS\tpossessive ending\tparent\\'s\n",
        "# PRP\tpersonal pronoun\tI, he, she\n",
        "# PRP$\tpossessive pronoun\tmy, his, hers\n",
        "# RB\tadverb\tvery, silently,\n",
        "# RBR\tadverb, comparative\tbetter\n",
        "# RBS\tadverb, superlative\tbest\n",
        "# RP\tparticle\tgive up\n",
        "# TO\tto\tgo 'to' the store.\n",
        "# UH\tinterjection\terrrrrrrrm\n",
        "# VB\tverb, base form\ttake\n",
        "# VBD\tverb, past tense\ttook\n",
        "# VBG\tverb, gerund/present participle\ttaking\n",
        "# VBN\tverb, past participle\ttaken\n",
        "# VBP\tverb, sing. present, non-3d\ttake\n",
        "# VBZ\tverb, 3rd person sing. present\ttakes\n",
        "# WDT\twh-determiner\twhich\n",
        "# WP\twh-pronoun\twho, what\n",
        "# WP$\tpossessive wh-pronoun\twhose\n",
        "# WRB\twh-abverb\twhere, when"
      ],
      "metadata": {
        "id": "A7vtYfs0piPA"
      },
      "execution_count": null,
      "outputs": []
    },
    {
      "cell_type": "code",
      "source": [
        "# Mapping dictionary\n",
        "pos_mapping = {\n",
        "    'MD': 'v',\n",
        "    'VBP': 'v',\n",
        "    'POS': 's',\n",
        "    'NN': 'n',\n",
        "    'JJ': 'a',\n",
        "    'DT': 's',\n",
        "    'VBG': 'v',\n",
        "    'VBD': 'v',\n",
        "    'VB': 'v',\n",
        "    'VBN': 'v',\n",
        "    'RB': 'r',\n",
        "    'RBS': 'r',\n",
        "    'VBZ': 'v',\n",
        "    'WRB': 'r',\n",
        "    'IN': 'r',\n",
        "    'PRP': 's',\n",
        "    'NNS': 'n',\n",
        "    'NNP': 'n',\n",
        "    'WP': 'r'\n",
        "\n",
        "}\n",
        "\n",
        "converted_list = [(first_value, pos_mapping[second_value]) for first_value, second_value in tagged]\n"
      ],
      "metadata": {
        "id": "fPEs85XdACWY"
      },
      "execution_count": null,
      "outputs": []
    },
    {
      "cell_type": "markdown",
      "source": [
        "### ***Lemmatization***"
      ],
      "metadata": {
        "id": "QnZiyRZwjlV0"
      }
    },
    {
      "cell_type": "code",
      "source": [
        "k=[]\n",
        "for w in converted_list:\n",
        "  k.append(wnl.lemmatize(w[0],w[1]))\n",
        "  s=sorted(set(k))"
      ],
      "metadata": {
        "id": "9XztNjBhEPty"
      },
      "execution_count": null,
      "outputs": []
    },
    {
      "cell_type": "code",
      "source": [
        "print(len(s))\n",
        "print(s)"
      ],
      "metadata": {
        "id": "-05-YAoSERuT",
        "colab": {
          "base_uri": "https://localhost:8080/"
        },
        "outputId": "0507def7-a9bb-4d8c-a7cc-ad8daf5be561"
      },
      "execution_count": null,
      "outputs": [
        {
          "output_type": "stream",
          "name": "stdout",
          "text": [
            "147\n",
            "[\"'d\", \"'m\", \"'s\", 'accommodation', 'advisory', 'amenity', 'anyone', 'arrange', 'arrangement', 'assist', 'assistance', 'available', 'aware', 'banking', 'board', 'book', 'bus', 'bye', 'cancel', 'cancellation', 'carry', 'catch', 'change', 'choose', 'clarify', 'complete', 'concern', 'confirmation', 'contact', 'could', 'curious', 'current', 'currently', 'date', 'day', 'decide', 'delay', 'detail', 'different', 'difficulty', 'disability', 'discount', 'document', 'email', 'encounter', 'expect', 'experience', 'explain', 'facility', 'fail', 'feedback', 'find', 'frequent', 'get', 'give', 'go', 'good', 'goodbye', 'guidance', 'guide', 'happen', 'hello', 'help', 'helpful', 'hey', 'hi', 'important', 'initiate', 'instruction', 'insurance', 'interested', 'issue', 'journey', 'know', 'later', 'like', 'look', 'lot', 'loyalty', 'luggage', 'make', 'matter', 'miss', \"n't\", 'need', 'net', 'netbanking', 'offer', 'onboard', 'operator', 'option', 'passenger', 'pay', 'payment', 'pick', 'plan', 'please', 'policy', 'prefer', 'problem', 'procedure', 'process', 'program', 'promotion', 'promotional', 'provide', 'purchase', 'question', 'receive', 'recent', 'refund', 'regard', 'request', 'require', 'reschedule', 'reservation', 'resolve', 'right', 'rule', 'seat', 'see', 'select', 'share', 'speak', 'special', 'specific', 'step', 'support', 'switch', 'take', 'tell', 'thank', 'thanks', 'ticket', 'time', 'travel', 'trip', 'trouble', 'try', 'unsure', 'upcoming', 'update', 'upi', 'use', 'user', 'want', 'work']\n"
          ]
        }
      ]
    },
    {
      "cell_type": "markdown",
      "source": [
        "### ***Bag of words***"
      ],
      "metadata": {
        "id": "7HIV8M_Aj1lx"
      }
    },
    {
      "cell_type": "code",
      "source": [
        "# create training data\n",
        "X_train = []\n",
        "for (pattern_sentence, tag) in xy:\n",
        "    # X: bag of words for each pattern_sentence\n",
        "    bag = bag_of_words(pattern_sentence, s)\n",
        "    X_train.append(bag)\n",
        "X_train = np.array(X_train)"
      ],
      "metadata": {
        "id": "pgL6fpkO3drX"
      },
      "execution_count": null,
      "outputs": []
    },
    {
      "cell_type": "code",
      "source": [
        "print(len(X_train))\n",
        "X_train"
      ],
      "metadata": {
        "colab": {
          "base_uri": "https://localhost:8080/"
        },
        "id": "j5cIKJf33jJP",
        "outputId": "8f099643-8eab-4399-9812-6e3fabb7a405"
      },
      "execution_count": null,
      "outputs": [
        {
          "output_type": "stream",
          "name": "stdout",
          "text": [
            "82\n"
          ]
        },
        {
          "output_type": "execute_result",
          "data": {
            "text/plain": [
              "array([[0., 0., 0., ..., 0., 0., 0.],\n",
              "       [0., 0., 0., ..., 0., 0., 0.],\n",
              "       [0., 0., 0., ..., 0., 0., 0.],\n",
              "       ...,\n",
              "       [0., 0., 0., ..., 0., 0., 0.],\n",
              "       [0., 0., 0., ..., 0., 0., 0.],\n",
              "       [0., 0., 0., ..., 0., 0., 0.]], dtype=float32)"
            ]
          },
          "metadata": {},
          "execution_count": 19
        }
      ]
    },
    {
      "cell_type": "markdown",
      "source": [
        "### ***Model***"
      ],
      "metadata": {
        "id": "8LboeaMDOB-d"
      }
    },
    {
      "cell_type": "code",
      "source": [
        "cel_str = '''\n",
        "import torch\n",
        "import torch.nn as nn\n",
        "\n",
        "\n",
        "class NeuralNet(nn.Module):\n",
        "    def __init__(self, input_size, hidden_size, num_classes):\n",
        "        super(NeuralNet, self).__init__()\n",
        "        self.l1 = nn.Linear(input_size, hidden_size)\n",
        "        self.l2 = nn.Linear(hidden_size, hidden_size)\n",
        "        self.l3 = nn.Linear(hidden_size, num_classes)\n",
        "        self.relu = nn.ReLU()\n",
        "\n",
        "    def forward(self, x):\n",
        "        out = self.l1(x)\n",
        "        out = self.relu(out)\n",
        "        out = self.l2(out)\n",
        "        out = self.relu(out)\n",
        "        out = self.l3(out)\n",
        "\n",
        "\n",
        "        #no activation and no softmax at the end\n",
        "        return out\n",
        "\n",
        "'''\n",
        "\n",
        "exec(cel_str)\n",
        "with open('model.py', 'w') as f:\n",
        "  f.write(cel_str)"
      ],
      "metadata": {
        "id": "hq5uNIeTElKm"
      },
      "execution_count": null,
      "outputs": []
    },
    {
      "cell_type": "markdown",
      "source": [
        "### ***Training***"
      ],
      "metadata": {
        "id": "ELpQffdTOIDN"
      }
    },
    {
      "cell_type": "code",
      "source": [
        "import torch\n",
        "import torch.nn as nn\n",
        "from torch.utils.data import Dataset, DataLoader\n",
        "\n",
        "from nltk_utils import bag_of_words, tokenize,lemmatize\n",
        "from model import NeuralNet\n",
        "\n",
        "# create training data\n",
        "y_train = []\n",
        "for (pattern_sentence, tag) in xy:\n",
        "\n",
        "    # y: PyTorch CrossEntropyLoss needs only class labels, not one-hot\n",
        "    label = tags.index(tag)\n",
        "    y_train.append(label)\n",
        "\n",
        "X_train = np.array(X_train)\n",
        "y_train = np.array(y_train)\n",
        "\n",
        "# Hyper-parameters\n",
        "num_epochs = 2000\n",
        "batch_size = 23\n",
        "learning_rate = 0.0001\n",
        "input_size = len(X_train[0])\n",
        "hidden_size = 500\n",
        "output_size = len(tags)\n",
        "\n",
        "class ChatDataset(Dataset):\n",
        "\n",
        "    def __init__(self):\n",
        "        self.n_samples = len(X_train)\n",
        "        self.x_data = X_train\n",
        "        self.y_data = y_train\n",
        "\n",
        "    # support indexing such that dataset[i] can be used to get i-th sample\n",
        "    def __getitem__(self, index):\n",
        "        return self.x_data[index], self.y_data[index]\n",
        "\n",
        "    # we can call len(dataset) to return the size\n",
        "    def __len__(self):\n",
        "        return self.n_samples\n",
        "\n",
        "dataset = ChatDataset()\n",
        "train_loader = DataLoader(dataset=dataset,\n",
        "                          batch_size=batch_size,\n",
        "                          shuffle=True,\n",
        "                          num_workers=0)\n",
        "\n",
        "device = torch.device('cuda' if torch.cuda.is_available() else 'cpu')\n",
        "\n",
        "model = NeuralNet(input_size, hidden_size, output_size).to(device)\n",
        "\n",
        "# Loss and optimizer\n",
        "criterion = nn.CrossEntropyLoss()\n",
        "optimizer = torch.optim.Adam(model.parameters(), lr=learning_rate)\n",
        "\n",
        "# Train the model\n",
        "for epoch in range(num_epochs):\n",
        "    for (words, labels) in train_loader:\n",
        "        words = words.to(device)\n",
        "        labels = labels.to(dtype=torch.long).to(device)\n",
        "\n",
        "        # Forward pass\n",
        "        outputs = model(words)\n",
        "        # if y would be one-hot, we must apply\n",
        "        #labels = torch.max(labels, 1)[1]\n",
        "        loss = criterion(outputs, labels)\n",
        "\n",
        "        # Backward and optimize\n",
        "        optimizer.zero_grad()\n",
        "        loss.backward()\n",
        "        optimizer.step()\n",
        "\n",
        "    if (epoch+1) % 100 == 0:\n",
        "        print (f'Epoch [{epoch+1}/{num_epochs}], Loss: {loss.item():.4f}')\n",
        "\n",
        "\n",
        "print(f'final loss: {loss.item():.4f}')\n",
        "\n",
        "data = {\n",
        "\"model_state\": model.state_dict(),\n",
        "\"input_size\": input_size,\n",
        "\"hidden_size\": hidden_size,\n",
        "\"output_size\": output_size,\n",
        "\"all_words\": all_words,\n",
        "\"tags\": tags\n",
        "}\n",
        "\n",
        "FILE = \"data.pth\"\n",
        "torch.save(data, FILE)\n",
        "\n",
        "print(f'training complete. file saved to {FILE}')"
      ],
      "metadata": {
        "colab": {
          "base_uri": "https://localhost:8080/"
        },
        "id": "ZVT0_5cUEX0v",
        "outputId": "67bf7759-7624-4b75-dbd4-4f7f8256bf06"
      },
      "execution_count": null,
      "outputs": [
        {
          "output_type": "stream",
          "name": "stdout",
          "text": [
            "Epoch [100/2000], Loss: 0.4276\n",
            "Epoch [200/2000], Loss: 0.0716\n",
            "Epoch [300/2000], Loss: 0.1686\n",
            "Epoch [400/2000], Loss: 0.1166\n",
            "Epoch [500/2000], Loss: 0.1131\n",
            "Epoch [600/2000], Loss: 0.1656\n",
            "Epoch [700/2000], Loss: 0.2199\n",
            "Epoch [800/2000], Loss: 0.1058\n",
            "Epoch [900/2000], Loss: 0.0011\n",
            "Epoch [1000/2000], Loss: 0.1124\n",
            "Epoch [1100/2000], Loss: 0.1599\n",
            "Epoch [1200/2000], Loss: 0.0570\n",
            "Epoch [1300/2000], Loss: 0.1164\n",
            "Epoch [1400/2000], Loss: 0.0517\n",
            "Epoch [1500/2000], Loss: 0.2169\n",
            "Epoch [1600/2000], Loss: 0.0514\n",
            "Epoch [1700/2000], Loss: 0.0548\n",
            "Epoch [1800/2000], Loss: 0.0000\n",
            "Epoch [1900/2000], Loss: 0.0533\n",
            "Epoch [2000/2000], Loss: 0.0543\n",
            "final loss: 0.0543\n",
            "training complete. file saved to data.pth\n"
          ]
        }
      ]
    },
    {
      "cell_type": "code",
      "source": [
        "import random\n",
        "import json\n",
        "\n",
        "import torch\n",
        "\n",
        "from model import NeuralNet\n",
        "from nltk_utils import bag_of_words, tokenize\n",
        "\n",
        "device = torch.device('cuda' if torch.cuda.is_available() else 'cpu')\n",
        "\n",
        "with open('intents.json', 'r') as json_data:\n",
        "    intents = json.load(json_data)\n",
        "\n",
        "FILE = \"data.pth\"\n",
        "data = torch.load(FILE)\n",
        "\n",
        "input_size = data[\"input_size\"]\n",
        "hidden_size = data[\"hidden_size\"]\n",
        "output_size = data[\"output_size\"]\n",
        "all_words = data['all_words']\n",
        "\n",
        "\n",
        "tags = data['tags']\n",
        "model_state = data[\"model_state\"]\n",
        "\n",
        "model = NeuralNet(input_size, hidden_size, output_size).to(device)\n",
        "model.load_state_dict(model_state)\n",
        "model.eval()\n",
        "\n",
        "bot_name = \"Paaru\"\n",
        "print(\"Let's chat! (type 'quit' to exit)\")\n",
        "while True:\n",
        "    sentence = input(\"You: \")\n",
        "    if sentence == \"quit\":\n",
        "        break\n",
        "\n",
        "    sentence = tokenize(sentence)\n",
        "    X = bag_of_words(sentence, s)\n",
        "    X = X.reshape(1, X.shape[0])\n",
        "    X = torch.from_numpy(X).to(device)\n",
        "\n",
        "    output = model(X)\n",
        "    _, predicted = torch.max(output, dim=1)\n",
        "\n",
        "    tag = tags[predicted.item()]\n",
        "\n",
        "    probs = torch.softmax(output, dim=1)\n",
        "    prob = probs[0][predicted.item()]\n",
        "    if prob.item() > 0.45:\n",
        "        for intent in intents['intents']:\n",
        "            if tag == intent[\"tag\"]:\n",
        "                print(f\"{bot_name}: {random.choice(intent['responses'])}\")\n",
        "    else:\n",
        "        print(f\"{bot_name}: I do not understand...\")"
      ],
      "metadata": {
        "colab": {
          "base_uri": "https://localhost:8080/"
        },
        "id": "9F43yTTVAFn0",
        "outputId": "fdcd847f-7256-4997-a518-4848c82d9bc8"
      },
      "execution_count": null,
      "outputs": [
        {
          "output_type": "stream",
          "name": "stdout",
          "text": [
            "Let's chat! (type 'quit' to exit)\n",
            "You: modify ticket\n",
            "Paaru: To modify your booking, head to 'My Bookings' and pick the ticket you need to update. Then, click on 'Modify' and follow the instructions to change the date. Please be aware that there may be fees associated with modifications.\n",
            "You: cancel ticket\n",
            "Paaru: To cancel, navigate to 'My Bookings', locate your ticket, and click 'Cancel'. Be mindful of any fees. Need help? Just ask\n",
            "You: seat selection\n",
            "Paaru: Once you've picked your route and travel date, just tap on the seat you want on the bus layout. Customize your search with filters if needed. Once selected, confirm your choice, and you're done! Don't hesitate to ask if you have any questions.\n"
          ]
        }
      ]
    },
    {
      "cell_type": "code",
      "source": [
        "# #import nltk\n",
        "# #nltk.download('words')\n",
        "# nltk.download('maxent_ne_chunker')\n",
        "# from nltk.chunk import ne_chunk\n",
        "\n",
        "# # Named entity recognition\n",
        "# ne_chunks = ne_chunk(tagged)\n",
        "\n",
        "# # Extract named entities\n",
        "# named_entities = []\n",
        "# for chunk in ne_chunks:\n",
        "#     if hasattr(chunk, 'label'):\n",
        "#         named_entities.append(' '.join(c[0] for c in chunk))"
      ],
      "metadata": {
        "id": "DcAbxj2qp4VX"
      },
      "execution_count": null,
      "outputs": []
    }
  ]
}